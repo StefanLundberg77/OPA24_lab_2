{
 "cells": [
  {
   "cell_type": "markdown",
   "metadata": {},
   "source": [
    "## Uppgift 1\n",
    "I den här uppgiften ska du visualisera med hjälp av matplotlib\n",
    "  a) Börja med att läsa in filen riket2023_åk9_np.xlsx och sheets för de olika ämnena (engelska, matematik, svenska,\n",
    "svenska som andraspråk). Ändra kolumnnamnen på respektive dataframe så du får något liknande som nedan."
   ]
  },
  {
   "cell_type": "markdown",
   "metadata": {},
   "source": [
    "##### --- Set up ---"
   ]
  },
  {
   "cell_type": "code",
   "execution_count": 107,
   "metadata": {},
   "outputs": [],
   "source": [
    "import pandas as pd\n",
    "from read_data import read_excel_data"
   ]
  },
  {
   "cell_type": "markdown",
   "metadata": {},
   "source": [
    "##### --- Load Data ---"
   ]
  },
  {
   "cell_type": "code",
   "execution_count": 108,
   "metadata": {},
   "outputs": [
    {
     "name": "stdout",
     "output_type": "stream",
     "text": [
      "Riket               object\n",
      "Typ av huvudman     object\n",
      "Totalt               int64\n",
      "Flickor              int64\n",
      "Pojkar               int64\n",
      "Totalt             float64\n",
      "Flickor            float64\n",
      "Pojkar             float64\n",
      "Totalt             float64\n",
      "Flickor            float64\n",
      "Pojkar             float64\n",
      "dtype: object\n",
      "Riket               object\n",
      "Typ av huvudman     object\n",
      "Totalt               int64\n",
      "Flickor              int64\n",
      "Pojkar               int64\n",
      "Totalt              object\n",
      "Flickor             object\n",
      "Pojkar              object\n",
      "Totalt             float64\n",
      "Flickor            float64\n",
      "Pojkar             float64\n",
      "dtype: object\n",
      "Riket               object\n",
      "Typ av huvudman     object\n",
      "Totalt               int64\n",
      "Flickor              int64\n",
      "Pojkar               int64\n",
      "Totalt             float64\n",
      "Flickor            float64\n",
      "Pojkar             float64\n",
      "Totalt             float64\n",
      "Flickor            float64\n",
      "Pojkar             float64\n",
      "dtype: object\n",
      "Riket              object\n",
      "Typ av huvudman    object\n",
      "Totalt             object\n",
      "Flickor            object\n",
      "Pojkar             object\n",
      "Totalt             object\n",
      "Flickor            object\n",
      "Pojkar             object\n",
      "Totalt             object\n",
      "Flickor            object\n",
      "Pojkar             object\n",
      "dtype: object\n",
      "Observera att om resultatuppgiften baseras på färre än 10 elever, dubbelprickas den. Då visas två prickar (..) istället för utfall.     object\n",
      "Unnamed: 1                                                                                                                             float64\n",
      "Unnamed: 2                                                                                                                             float64\n",
      "Unnamed: 3                                                                                                                              object\n",
      "dtype: object\n"
     ]
    }
   ],
   "source": [
    "excel_file = \"data/riket2023_åk9_np.xlsx\"\n",
    "df = pd.read_excel(excel_file, sheet_name=None, skiprows=8)\n",
    "\n",
    "for sheet_name, df in df.items():\n",
    "        print(df.dtypes)\n",
    "\n"
   ]
  },
  {
   "cell_type": "code",
   "execution_count": null,
   "metadata": {},
   "outputs": [],
   "source": [
    "\n"
   ]
  },
  {
   "cell_type": "markdown",
   "metadata": {},
   "source": []
  }
 ],
 "metadata": {
  "kernelspec": {
   "display_name": ".venv",
   "language": "python",
   "name": "python3"
  },
  "language_info": {
   "codemirror_mode": {
    "name": "ipython",
    "version": 3
   },
   "file_extension": ".py",
   "mimetype": "text/x-python",
   "name": "python",
   "nbconvert_exporter": "python",
   "pygments_lexer": "ipython3",
   "version": "3.13.2"
  }
 },
 "nbformat": 4,
 "nbformat_minor": 2
}
