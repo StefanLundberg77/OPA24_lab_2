{
 "cells": [
  {
   "cell_type": "markdown",
   "metadata": {},
   "source": [
    "## Uppgift 1\n",
    "I den här uppgiften ska du visualisera med hjälp av matplotlib\n",
    "  a) Börja med att läsa in filen riket2023_åk9_np.xlsx och sheets för de olika ämnena (engelska, matematik, svenska,\n",
    "svenska som andraspråk). Ändra kolumnnamnen på respektive dataframe så du får något liknande som nedan."
   ]
  },
  {
   "cell_type": "markdown",
   "metadata": {},
   "source": []
  }
 ],
 "metadata": {
  "language_info": {
   "name": "python"
  }
 },
 "nbformat": 4,
 "nbformat_minor": 2
}
