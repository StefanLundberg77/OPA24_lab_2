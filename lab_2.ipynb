{
 "cells": [
  {
   "cell_type": "markdown",
   "metadata": {},
   "source": [
    "## Uppgift 1\n",
    "I den här uppgiften ska du visualisera med hjälp av matplotlib\n",
    "  a) Börja med att läsa in filen riket2023_åk9_np.xlsx och sheets för de olika ämnena (engelska, matematik, svenska,\n",
    "svenska som andraspråk). Ändra kolumnnamnen på respektive dataframe så du får något liknande som nedan."
   ]
  },
  {
   "cell_type": "markdown",
   "metadata": {},
   "source": [
    "##### --- Set up ---"
   ]
  },
  {
   "cell_type": "code",
   "execution_count": null,
   "metadata": {},
   "outputs": [],
   "source": [
    "import pandas as pd\n",
    "from read_data import read_cleaned_data"
   ]
  },
  {
   "cell_type": "code",
   "execution_count": null,
   "metadata": {},
   "outputs": [],
   "source": [
    "# xls = \"data/riket2023_åk9_np.xlsx\"\n",
    "# df = pd.ExcelFile(xls)  \n",
    "# print(df.sheet_names)"
   ]
  },
  {
   "cell_type": "markdown",
   "metadata": {},
   "source": [
    "##### --- Load Data ---"
   ]
  },
  {
   "cell_type": "code",
   "execution_count": null,
   "metadata": {},
   "outputs": [],
   "source": [
    "excel_file = \"data/riket2023_åk9_np.xlsx\"\n",
    "#df = read_cleaned_data(excel_file, 8)\n",
    "\n",
    "sheets_to_read = [0,1,2,3]#[\"Engelska\", \"Matematik\", \"Svenska\", \"Svenska som andraspråk\"]\n",
    "\n",
    "# dfs = {sheet: pd.read_excel(excel_file, sheet_name=sheet, skiprows=8, index_col=None) for sheet in sheets_to_read} #dict med dfs\n",
    "\n",
    "# slappar ihop dom\n",
    "df_merged = pd.concat(\n",
    "    [pd.read_excel(excel_file, sheet_name=sheet, skiprows=8, index_col=None).assign(Sheet=sheet)\n",
    "    for sheet in sheets_to_read],\n",
    "    ignore_index=True\n",
    ")\n",
    "df_merged"
   ]
  },
  {
   "cell_type": "code",
   "execution_count": null,
   "metadata": {},
   "outputs": [],
   "source": [
    "df_merged.columns\n"
   ]
  },
  {
   "cell_type": "code",
   "execution_count": null,
   "metadata": {},
   "outputs": [],
   "source": [
    "df_merged.columns = ['Plats', 'Huvudman', \n",
    "              'Totalt (A-F)', 'Flickor (A-F)', 'Pojkar (A-F)', \n",
    "              'Totalt (A-E)', 'Flickor (A-E)', 'Pojkar (A-E)', \n",
    "              'Totalt (poäng)', 'Flickor (poäng)', 'Pojkar (poäng)', 'sheet']\n",
    "\n",
    "                    \n",
    "df_merged.columns\n"
   ]
  },
  {
   "cell_type": "code",
   "execution_count": null,
   "metadata": {},
   "outputs": [],
   "source": [
    "#print(df_merged.columns[0:11]) # slize\n"
   ]
  },
  {
   "cell_type": "markdown",
   "metadata": {},
   "source": []
  },
  {
   "cell_type": "code",
   "execution_count": null,
   "metadata": {},
   "outputs": [],
   "source": [
    "print(df_merged)"
   ]
  },
  {
   "cell_type": "code",
   "execution_count": null,
   "metadata": {},
   "outputs": [],
   "source": [
    "df_drop=df_merged.drop(columns=[\"sheet\"]).head(4)\n",
    "df_drop\n"
   ]
  },
  {
   "cell_type": "code",
   "execution_count": null,
   "metadata": {},
   "outputs": [],
   "source": []
  }
 ],
 "metadata": {
  "kernelspec": {
   "display_name": ".venv",
   "language": "python",
   "name": "python3"
  },
  "language_info": {
   "codemirror_mode": {
    "name": "ipython",
    "version": 3
   },
   "file_extension": ".py",
   "mimetype": "text/x-python",
   "name": "python",
   "nbconvert_exporter": "python",
   "pygments_lexer": "ipython3",
   "version": "3.13.2"
  }
 },
 "nbformat": 4,
 "nbformat_minor": 2
}
