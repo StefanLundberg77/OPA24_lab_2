{
 "cells": [
  {
   "cell_type": "markdown",
   "metadata": {},
   "source": [
    "## Uppgift 1\n",
    "I den här uppgiften ska du visualisera med hjälp av matplotlib\n",
    "  a) Börja med att läsa in filen riket2023_åk9_np.xlsx och sheets för de olika ämnena (engelska, matematik, svenska,\n",
    "svenska som andraspråk). Ändra kolumnnamnen på respektive dataframe så du får något liknande som nedan."
   ]
  },
  {
   "cell_type": "markdown",
   "metadata": {},
   "source": [
    "##### --- Set up ---"
   ]
  },
  {
   "cell_type": "code",
   "execution_count": null,
   "metadata": {},
   "outputs": [],
   "source": [
    "import matplotlib.pyplot as plt\n",
    "import pandas as pd\n",
    "import seaborn as sns\n",
    "from read_data import read_data, read_data_2, sheet_filter\n",
    "import plotly_express as px"
   ]
  },
  {
   "cell_type": "markdown",
   "metadata": {},
   "source": [
    "##### --- Load Data ---"
   ]
  },
  {
   "cell_type": "code",
   "execution_count": null,
   "metadata": {},
   "outputs": [],
   "source": [
    "excel_file = \"data/riket2023_åk9_np.xlsx\"\n",
    "\n",
    "sheets_to_read = [\"Engelska\", \"Matematik\", \"Svenska\", \"Svenska som andraspråk\"]\n",
    "\n",
    "columns = ['Plats', 'Huvudman', \n",
    "              'Totalt (A-F)', 'Flickor (A-F)', 'Pojkar (A-F)', \n",
    "              'Totalt (A-E)', 'Flickor (A-E)', 'Pojkar (A-E)', \n",
    "              'Totalt (poäng)', 'Flickor (poäng)', 'Pojkar (poäng)', 'sheet']\n",
    "\n",
    "df = read_data(excel_file, sheets_to_read, columns, 8)\n",
    "df # test"
   ]
  },
  {
   "cell_type": "markdown",
   "metadata": {},
   "source": [
    "##### Apply function for filtering out certain sheet by name"
   ]
  },
  {
   "cell_type": "code",
   "execution_count": null,
   "metadata": {},
   "outputs": [],
   "source": [
    "df_engelska = sheet_filter(df, \"Engelska\")\n",
    "df_matematik = sheet_filter(df, \"Matematik\")\n",
    "df_svenska = sheet_filter(df, \"Svenska\")\n",
    "df_andra_sprak = sheet_filter(df, \"Svenska som andraspråk\")"
   ]
  },
  {
   "cell_type": "markdown",
   "metadata": {},
   "source": [
    " b) För de olika ämnena, rita en stapeldiagram på totala poängen för de olika huvudmännen. Placera alla diagram i en\n",
    "plott med subplottar"
   ]
  },
  {
   "cell_type": "code",
   "execution_count": null,
   "metadata": {},
   "outputs": [],
   "source": [
    "#Create 2x2 subplots figure (4 diagrams)\n",
    "fig, axes = plt.subplots(2, 2, dpi=240, figsize=(20, 12),sharey=True,sharex=True)\n",
    "\n",
    "# convert subplot axes to array\n",
    "axis = axes.ravel()\n",
    "\n",
    "#Titles for each subplot\n",
    "titles = [\"Engelska\", \"Matematik\", \"Svenska\", \"Svenska som andraspråk\"]\n",
    "\n",
    "#DataFrames to plot\n",
    "dataframes = [df_engelska, df_matematik, df_svenska, df_andra_sprak]\n",
    "\n",
    "# Legend names list\n",
    "y_leg = ['Total','Flickor','Pojkar']\n",
    "\n",
    "# create a bar color list\n",
    "bar_colors = [\"pink\", \"purple\", \"cyan\"] \n",
    "\n",
    "#Loop through each subplot and plot dataframes + hide legend\n",
    "for ax, df, title in zip(axis, dataframes, titles):\n",
    "\n",
    "    df[['Huvudman',\"Totalt (poäng)\", \"Flickor (poäng)\", \"Pojkar (poäng)\"]].plot(x='Huvudman',\n",
    "                                                                                kind='bar',\n",
    "                                                                                ax=ax,\n",
    "                                                                                color=bar_colors,\n",
    "                                                                                legend=False,\n",
    "                                                                                grid=True)\n",
    "    # add title and rotate x-tick labels for layout\n",
    "    ax.set(title=title, ylabel=\"Total poäng (genomsnitt)\")\n",
    "    ax.set_xticklabels(ax.get_xticklabels(), rotation=70)\n",
    "\n",
    "#Add legend + Suptitle + save\n",
    "fig.legend(y_leg,loc=(0.87,0.35),fontsize=20)\n",
    "plt.suptitle('Resultat nationella prov årskurs 9',fontsize=22)\n",
    "plt.tight_layout()\n",
    "plt.savefig(\"visualiseringar/matplot.png\", facecolor=\"white\", bbox_inches=\"tight\")\n",
    "\n",
    "#show figure\n",
    "plt.show()"
   ]
  },
  {
   "cell_type": "markdown",
   "metadata": {},
   "source": [
    "https://matplotlib.org/stable/api/_as_gen/matplotlib.pyplot.subplots.html"
   ]
  },
  {
   "cell_type": "markdown",
   "metadata": {},
   "source": [
    "## Uppgift 2\n",
    "\n",
    "I uppgifterna nedan ska du använda dig av datasetet betyg_o_prov_riksnivå.xlsx. Använd Plotly för att rita diagrammen\n",
    "nedan för de uppgifter som kräver diagram. Använd Pandas för att svara på frågor om datasetet.\n"
   ]
  },
  {
   "cell_type": "markdown",
   "metadata": {},
   "source": [
    "##### --- Load Data ---"
   ]
  },
  {
   "cell_type": "code",
   "execution_count": null,
   "metadata": {},
   "outputs": [],
   "source": [
    "excel_file2 = \"data/betyg_o_prov_riksnivå.xlsx\"\n",
    "\n",
    "sheets_to_read = [\"Tabell 1A\", \"Tabell 1B\"]\n",
    "\n",
    "cols = [\"A,H:J\", \"A,B:D\"]\n",
    "\n",
    "df_2a = read_data_2(excel_file2, 'Tabell 1B', 'A,B:D', 7, 5) # Genomsnittligt meritvärde beräknat på 16 ämnen\n",
    "\n",
    "df_2b = read_data_2(excel_file2, 'Tabell 1B', 'A,H:J', 7, 5) # Andel (%) elever som saknar godkänt betyg i ett, flera eller alla ämnen\n",
    "\n",
    "df_2a # test"
   ]
  },
  {
   "cell_type": "code",
   "execution_count": null,
   "metadata": {},
   "outputs": [],
   "source": [
    "df_2b # test"
   ]
  },
  {
   "cell_type": "markdown",
   "metadata": {},
   "source": [
    "a) Rita ett linjediagram för andel elever som saknar godkänt betyg i ett eller fler ämnen för läsår 18-23. Ta med totalt, flickor och pojkar i samma graf."
   ]
  },
  {
   "cell_type": "markdown",
   "metadata": {},
   "source": [
    "##### --- Plot figure ---"
   ]
  },
  {
   "cell_type": "code",
   "execution_count": null,
   "metadata": {},
   "outputs": [],
   "source": [
    "\n",
    "# name variabels for figure\n",
    "x_title = \"Läsår\"\n",
    "y_title = \"Andel\"\n",
    "leg_title = \"Elever\"\n",
    "columns = [\"Totalt\", \"Flickor\", \"Pojkar\"] # list column names\n",
    "\n",
    "# change names for colums\n",
    "df_2b.columns = columns\n",
    "\n",
    "# create a line figure\n",
    "fig = px.line(df_2b,x=df_2b.index,y=df_2b.columns)\n",
    "\n",
    "# add titles + legend + save\n",
    "fig.update_layout(xaxis=dict(title=dict(text=x_title)),\n",
    "        yaxis=dict(title=dict(text=y_title)),\n",
    "        legend=dict(title=dict(text=leg_title)),\n",
    "        title={'text': \"Andel elever som saknar godkänt betyg i ett eller flera ämnen\",\n",
    "        'y':0.98, 'x':0.5}, font=dict(size=18))\n",
    "fig.write_html(\"visualiseringar/andel_saknar_godkänt.html\")\n",
    "\n",
    "# display fig\n",
    "fig.show()\n"
   ]
  },
  {
   "cell_type": "markdown",
   "metadata": {},
   "source": [
    "https://plotly.com/python/interactive-html-export/\n",
    "\n",
    "https://plotly.com/python/line-charts/\n",
    "\n",
    "https://plotly.com/python/figure-labels/"
   ]
  },
  {
   "cell_type": "markdown",
   "metadata": {},
   "source": [
    "b) Rita ett linjediagram för meritvärde för 16 ämnen för totalt, flickor och pojkar för läsår 18-23."
   ]
  },
  {
   "cell_type": "code",
   "execution_count": null,
   "metadata": {},
   "outputs": [],
   "source": [
    "# assign new y-axis title\n",
    "y_title = \"Meritvärde\"\n",
    "\n",
    "# # create a line figure\n",
    "fig = px.line(df_2a,x=df_2a.index,y=df_2a.columns)\n",
    "\n",
    "# add titles + legend + save\n",
    "fig.update_layout(xaxis=dict(title=dict(text=x_title)),\n",
    "        yaxis=dict(title=dict(text=y_title)),\n",
    "        legend=dict(title=dict(text=leg_title)),\n",
    "        title={'text': \"Genomsnittligt meritvärde beräknat på 16 ämnen\",\n",
    "        'y':0.98, 'x':0.5}, font=dict(size=18))\n",
    "fig.write_html(\"visualiseringar/plotly_meritvärde.html\")\n",
    "\n",
    "# display fig\n",
    "fig.show()"
   ]
  },
  {
   "cell_type": "markdown",
   "metadata": {},
   "source": [
    " c) (bonus) Undersök nu andra variabler, och hur de påverkar meritvärde och andel med minst ett saknat betyg. Data\n",
    "finns för läsår 22/23. Exempel kan man undersöka föräldrarnas utbildningsbakgrund. Rita lämpliga grafer.\n",
    "\n"
   ]
  },
  {
   "cell_type": "markdown",
   "metadata": {},
   "source": [
    "##### --- Load Data ---"
   ]
  },
  {
   "cell_type": "code",
   "execution_count": null,
   "metadata": {},
   "outputs": [],
   "source": [
    "df_3a = read_data_2(excel_file2, 'Tabell 1A', 'A,B,H', 9, 0) # Genomsnittligt meritvärde beräknat på 16 ämnen\n",
    "\n",
    "df_3b = read_data_2(excel_file2, 'Tabell 1B', 'A,B,H', 7, 0) # Andel (%) elever som saknar godkänt betyg i ett, flera eller alla ämnen"
   ]
  },
  {
   "cell_type": "markdown",
   "metadata": {},
   "source": [
    "##### --- Plot fig ---"
   ]
  },
  {
   "cell_type": "markdown",
   "metadata": {},
   "source": [
    "Andel elever som saknar godkänt betyg i ett eller flera ämnen jämfört med föräldrars utbildningsnivå samt elevernas bakgrund"
   ]
  },
  {
   "cell_type": "markdown",
   "metadata": {},
   "source": [
    "cirkeldiagram1: x=andel som saknar g y=utbildningsnivå, bakgrund "
   ]
  },
  {
   "cell_type": "markdown",
   "metadata": {},
   "source": [
    "# OUT OF TIME AND BRAIN"
   ]
  },
  {
   "cell_type": "markdown",
   "metadata": {},
   "source": [
    "https://www.w3schools.com/python/matplotlib_pie_charts.asp"
   ]
  },
  {
   "cell_type": "code",
   "execution_count": null,
   "metadata": {},
   "outputs": [],
   "source": []
  }
 ],
 "metadata": {
  "kernelspec": {
   "display_name": ".venv",
   "language": "python",
   "name": "python3"
  },
  "language_info": {
   "codemirror_mode": {
    "name": "ipython",
    "version": 3
   },
   "file_extension": ".py",
   "mimetype": "text/x-python",
   "name": "python",
   "nbconvert_exporter": "python",
   "pygments_lexer": "ipython3",
   "version": "3.13.2"
  }
 },
 "nbformat": 4,
 "nbformat_minor": 2
}
