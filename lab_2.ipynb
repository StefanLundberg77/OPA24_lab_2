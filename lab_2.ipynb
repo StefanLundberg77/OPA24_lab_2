{
 "cells": [
  {
   "cell_type": "markdown",
   "metadata": {},
   "source": [
    "## Uppgift 1\n",
    "I den här uppgiften ska du visualisera med hjälp av matplotlib\n",
    "  a) Börja med att läsa in filen riket2023_åk9_np.xlsx och sheets för de olika ämnena (engelska, matematik, svenska,\n",
    "svenska som andraspråk). Ändra kolumnnamnen på respektive dataframe så du får något liknande som nedan."
   ]
  },
  {
   "cell_type": "markdown",
   "metadata": {},
   "source": [
    "##### --- Set up ---"
   ]
  },
  {
   "cell_type": "code",
   "execution_count": 1,
   "metadata": {},
   "outputs": [],
   "source": [
    "import pandas as pd\n",
    "from read_data import read_cleaned_data"
   ]
  },
  {
   "cell_type": "markdown",
   "metadata": {},
   "source": [
    "##### --- Load Data ---"
   ]
  },
  {
   "cell_type": "code",
   "execution_count": 3,
   "metadata": {},
   "outputs": [
    {
     "name": "stdout",
     "output_type": "stream",
     "text": [
      "{'Engelska':    Plats    Huvudman  Totalt\\n (A-F)  Flickor\\n (A-F)  Pojkar\\n (A-F)  \\\n",
      "0  Riket    Samtliga          106941            51864           55077   \n",
      "1  Riket    Kommunal           84310            40675           43635   \n",
      "2  Riket     Enskild           22582            11165           11417   \n",
      "3  Riket  Skolverket              49               24              25   \n",
      "\n",
      "   Totalt\\n (A-E)  Flickor\\n (A-E)  Pojkar\\n (A-E)  Totalt\\n (poäng)  \\\n",
      "0            97.0             97.1            97.0              15.7   \n",
      "1            96.6             96.6            96.6              15.4   \n",
      "2            98.7             98.8            98.7              16.9   \n",
      "3           100.0            100.0           100.0              18.5   \n",
      "\n",
      "   Flickor\\n (poäng)  Pojkar\\n (poäng)  \n",
      "0               15.8              15.7  \n",
      "1               15.5              15.4  \n",
      "2               17.0              16.8  \n",
      "3               18.9              18.2  , 'Matematik':    Plats    Huvudman  Totalt\\n (A-F)  Flickor\\n (A-F)  Pojkar\\n (A-F)  \\\n",
      "0  Riket    Samtliga          106766            51548           55218   \n",
      "1  Riket    Kommunal           84163            40386           43777   \n",
      "2  Riket     Enskild           22553            11137           11416   \n",
      "3  Riket  Skolverket              50               25              25   \n",
      "\n",
      "  Totalt\\n (A-E) Flickor\\n (A-E) Pojkar\\n (A-E)  Totalt\\n (poäng)  \\\n",
      "0           89.1            88.7           89.5              11.9   \n",
      "1           88.1            87.7           88.5              11.6   \n",
      "2           92.9            92.2           93.5              13.0   \n",
      "3           ~100            ~100           ~100              14.1   \n",
      "\n",
      "   Flickor\\n (poäng)  Pojkar\\n (poäng)  \n",
      "0               11.8              12.0  \n",
      "1               11.5              11.7  \n",
      "2               12.8              13.1  \n",
      "3               13.5              14.7  , 'Svenska':    Plats    Huvudman  Totalt\\n (A-F)  Flickor\\n (A-F)  Pojkar\\n (A-F)  \\\n",
      "0  Riket    Samtliga           93225            45800           47425   \n",
      "1  Riket    Kommunal           72771            35484           37287   \n",
      "2  Riket     Enskild           20414            10297           10117   \n",
      "3  Riket  Skolverket              40               19              21   \n",
      "\n",
      "   Totalt\\n (A-E)  Flickor\\n (A-E)  Pojkar\\n (A-E)  Totalt\\n (poäng)  \\\n",
      "0            96.1             97.9            94.4              13.6   \n",
      "1            95.7             97.6            93.8              13.3   \n",
      "2            97.6             98.7            96.6              14.4   \n",
      "3           100.0            100.0           100.0              15.0   \n",
      "\n",
      "   Flickor\\n (poäng)  Pojkar\\n (poäng)  \n",
      "0               14.5              12.7  \n",
      "1               14.3              12.4  \n",
      "2               15.2              13.5  \n",
      "3               15.9              14.2  , 'Svenska som andraspråk':    Plats    Huvudman Totalt\\n (A-F) Flickor\\n (A-F) Pojkar\\n (A-F)  \\\n",
      "0  Riket    Samtliga          14092            6447           7645   \n",
      "1  Riket    Kommunal          11963            5495           6468   \n",
      "2  Riket     Enskild           2122             949           1173   \n",
      "3  Riket  Skolverket             ..              ..             ..   \n",
      "\n",
      "  Totalt\\n (A-E) Flickor\\n (A-E) Pojkar\\n (A-E) Totalt\\n (poäng)  \\\n",
      "0           77.7            81.6           74.3              9.4   \n",
      "1           75.9              80           72.4                9   \n",
      "2           87.7            90.9           85.2             11.1   \n",
      "3             ..              ..             ..               ..   \n",
      "\n",
      "  Flickor\\n (poäng) Pojkar\\n (poäng)  \n",
      "0              10.2              8.7  \n",
      "1               9.9              8.3  \n",
      "2                12             10.4  \n",
      "3                ..               ..  }\n"
     ]
    }
   ],
   "source": [
    "excel_file = \"data/riket2023_åk9_np.xlsx\"\n",
    "df = read_cleaned_data(excel_file,skip=8)\n",
    "\n",
    "print(df)\n",
    "\n"
   ]
  },
  {
   "cell_type": "code",
   "execution_count": null,
   "metadata": {},
   "outputs": [],
   "source": [
    "\n"
   ]
  },
  {
   "cell_type": "markdown",
   "metadata": {},
   "source": []
  }
 ],
 "metadata": {
  "kernelspec": {
   "display_name": ".venv",
   "language": "python",
   "name": "python3"
  },
  "language_info": {
   "codemirror_mode": {
    "name": "ipython",
    "version": 3
   },
   "file_extension": ".py",
   "mimetype": "text/x-python",
   "name": "python",
   "nbconvert_exporter": "python",
   "pygments_lexer": "ipython3",
   "version": "3.13.2"
  }
 },
 "nbformat": 4,
 "nbformat_minor": 2
}
